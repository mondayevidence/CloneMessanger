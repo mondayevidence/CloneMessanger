{
 "cells": [
  {
   "cell_type": "code",
   "execution_count": 5,
   "metadata": {},
   "outputs": [
    {
     "name": "stdout",
     "output_type": "stream",
     "text": [
      "{\n",
      "    \"_id\": 79776140,\n",
      "    \"_links\": {\n",
      "        \"chat\": \"https://api.twitch.tv/kraken/chat/freecodecamp\",\n",
      "        \"commercial\": \"https://api.twitch.tv/kraken/channels/freecodecamp/commercial\",\n",
      "        \"editors\": \"https://api.twitch.tv/kraken/channels/freecodecamp/editors\",\n",
      "        \"follows\": \"https://api.twitch.tv/kraken/channels/freecodecamp/follows\",\n",
      "        \"self\": \"https://api.twitch.tv/kraken/channels/freecodecamp\",\n",
      "        \"stream_key\": \"https://api.twitch.tv/kraken/channels/freecodecamp/stream_key\",\n",
      "        \"subscriptions\": \"https://api.twitch.tv/kraken/channels/freecodecamp/subscriptions\",\n",
      "        \"teams\": \"https://api.twitch.tv/kraken/channels/freecodecamp/teams\",\n",
      "        \"videos\": \"https://api.twitch.tv/kraken/channels/freecodecamp/videos\"\n",
      "    },\n",
      "    \"background\": null,\n",
      "    \"banner\": null,\n",
      "    \"broadcaster_language\": \"en\",\n",
      "    \"created_at\": \"2015-01-14T03:36:47Z\",\n",
      "    \"delay\": null,\n",
      "    \"display_name\": \"FreeCodeCamp\",\n",
      "    \"followers\": 10122,\n",
      "    \"game\": \"Creative\",\n",
      "    \"language\": \"en\",\n",
      "    \"logo\": \"https://static-cdn.jtvnw.net/jtv_user_pictures/freecodecamp-profile_image-d9514f2df0962329-300x300.png\",\n",
      "    \"mature\": false,\n",
      "    \"name\": \"freecodecamp\",\n",
      "    \"partner\": false,\n",
      "    \"profile_banner\": \"https://static-cdn.jtvnw.net/jtv_user_pictures/freecodecamp-profile_banner-6f5e3445ff474aec-480.png\",\n",
      "    \"profile_banner_background_color\": null,\n",
      "    \"status\": \"Greg working on Electron-Vue boilerplate w/ Akira #programming #vuejs #electron\",\n",
      "    \"updated_at\": \"2016-10-10T22:02:01Z\",\n",
      "    \"url\": \"https://www.twitch.tv/freecodecamp\",\n",
      "    \"video_banner\": \"https://static-cdn.jtvnw.net/jtv_user_pictures/freecodecamp-channel_offline_image-b8e133c78cd51cb0-1920x1080.png\",\n",
      "    \"views\": 163747\n",
      "}\n"
     ]
    }
   ],
   "source": [
    "import numpy as np\n",
    "import pandas as pd\n",
    "import requests\n",
    "import json\n",
    "\n",
    "url = \"https://wind-bow.glitch.me/twitch-api/channels/freecodecamp\"\n",
    "JSONContent = requests.get(url).json()\n",
    "content = json.dumps(JSONContent, indent = 4, sort_keys=True)\n",
    "print(content)"
   ]
  },
  {
   "cell_type": "code",
   "execution_count": 6,
   "metadata": {},
   "outputs": [
    {
     "ename": "KeyError",
     "evalue": "'_id'",
     "output_type": "error",
     "traceback": [
      "\u001b[1;31m---------------------------------------------------------------------------\u001b[0m",
      "\u001b[1;31mKeyError\u001b[0m                                  Traceback (most recent call last)",
      "\u001b[1;32m<ipython-input-6-21a0c037b631>\u001b[0m in \u001b[0;36m<module>\u001b[1;34m\u001b[0m\n\u001b[0;32m      8\u001b[0m \u001b[1;32mfor\u001b[0m \u001b[0mchannel\u001b[0m \u001b[1;32min\u001b[0m \u001b[0mchannels\u001b[0m\u001b[1;33m:\u001b[0m\u001b[1;33m\u001b[0m\u001b[1;33m\u001b[0m\u001b[0m\n\u001b[0;32m      9\u001b[0m     \u001b[0mJSONContent\u001b[0m \u001b[1;33m=\u001b[0m \u001b[0mrequests\u001b[0m\u001b[1;33m.\u001b[0m\u001b[0mget\u001b[0m\u001b[1;33m(\u001b[0m\u001b[1;34m\"https://wind-bow.glitch.me/twitch-api/channels/\"\u001b[0m \u001b[1;33m+\u001b[0m \u001b[0mchannel\u001b[0m\u001b[1;33m)\u001b[0m\u001b[1;33m.\u001b[0m\u001b[0mjson\u001b[0m\u001b[1;33m(\u001b[0m\u001b[1;33m)\u001b[0m\u001b[1;33m\u001b[0m\u001b[1;33m\u001b[0m\u001b[0m\n\u001b[1;32m---> 10\u001b[1;33m     channels_list.append([JSONContent['_id'], JSONContent['display_name'], JSONContent['status'],\n\u001b[0m\u001b[0;32m     11\u001b[0m                          JSONContent['followers'], JSONContent['views']])\n\u001b[0;32m     12\u001b[0m \u001b[1;33m\u001b[0m\u001b[0m\n",
      "\u001b[1;31mKeyError\u001b[0m: '_id'"
     ]
    }
   ],
   "source": [
    "# List of accessible channels\n",
    "channels = [\"ESL_SC2\", \"OgamingSC2\", \"cretetion\", \"freecodecamp\", \"storbeck\", \"habathcx\", \"RobotCaleb\", \"noobs2ninjas\",\n",
    "            \"ninja\", \"shroud\", \"Dakotaz\", \"esltv_cs\", \"pokimane\", \"tsm_bjergsen\", \"boxbox\", \"wtcn\", \"a_seagull\",\n",
    "           \"kinggothalion\", \"amazhs\", \"jahrein\", \"thenadeshot\", \"sivhd\", \"kingrichard\"]\n",
    "\n",
    "channels_list = []\n",
    "# For each channel, we access its information through its API\n",
    "for channel in channels:\n",
    "    JSONContent = requests.get(\"https://wind-bow.glitch.me/twitch-api/channels/\" + channel).json()\n",
    "    channels_list.append([JSONContent['_id'], JSONContent['display_name'], JSONContent['status'],\n",
    "                         JSONContent['followers'], JSONContent['views']])\n",
    "                         \n",
    "dataset = pd.DataFrame(channels_list)\n",
    "dataset.sample(5)"
   ]
  },
  {
   "cell_type": "code",
   "execution_count": null,
   "metadata": {},
   "outputs": [],
   "source": []
  }
 ],
 "metadata": {
  "kernelspec": {
   "display_name": "Python 3",
   "language": "python",
   "name": "python3"
  },
  "language_info": {
   "codemirror_mode": {
    "name": "ipython",
    "version": 3
   },
   "file_extension": ".py",
   "mimetype": "text/x-python",
   "name": "python",
   "nbconvert_exporter": "python",
   "pygments_lexer": "ipython3",
   "version": "3.7.1"
  }
 },
 "nbformat": 4,
 "nbformat_minor": 2
}
